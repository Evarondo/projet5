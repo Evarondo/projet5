{
 "cells": [
  {
   "cell_type": "code",
   "execution_count": 1,
   "id": "28a877af",
   "metadata": {},
   "outputs": [
    {
     "name": "stdout",
     "output_type": "stream",
     "text": [
      "Requirement already satisfied: flake8 in c:\\users\\evaro\\anaconda3\\lib\\site-packages (3.9.2)\n",
      "Collecting pycodestyle_magic\n",
      "  Downloading pycodestyle_magic-0.5-py2.py3-none-any.whl (9.5 kB)\n",
      "Requirement already satisfied: mccabe<0.7.0,>=0.6.0 in c:\\users\\evaro\\anaconda3\\lib\\site-packages (from flake8) (0.6.1)\n",
      "Requirement already satisfied: pycodestyle<2.8.0,>=2.7.0 in c:\\users\\evaro\\anaconda3\\lib\\site-packages (from flake8) (2.7.0)\n",
      "Requirement already satisfied: pyflakes<2.4.0,>=2.3.0 in c:\\users\\evaro\\anaconda3\\lib\\site-packages (from flake8) (2.3.1)\n",
      "Installing collected packages: pycodestyle-magic\n",
      "Successfully installed pycodestyle-magic-0.5\n",
      "Note: you may need to restart the kernel to use updated packages.\n"
     ]
    },
    {
     "name": "stderr",
     "output_type": "stream",
     "text": [
      "WARNING: Ignoring invalid distribution -atplotlib (c:\\users\\evaro\\anaconda3\\lib\\site-packages)\n",
      "WARNING: Ignoring invalid distribution -atplotlib (c:\\users\\evaro\\anaconda3\\lib\\site-packages)\n",
      "WARNING: Ignoring invalid distribution -atplotlib (c:\\users\\evaro\\anaconda3\\lib\\site-packages)\n",
      "WARNING: Ignoring invalid distribution -atplotlib (c:\\users\\evaro\\anaconda3\\lib\\site-packages)\n",
      "WARNING: Ignoring invalid distribution -atplotlib (c:\\users\\evaro\\anaconda3\\lib\\site-packages)\n",
      "WARNING: Ignoring invalid distribution -atplotlib (c:\\users\\evaro\\anaconda3\\lib\\site-packages)\n",
      "WARNING: Ignoring invalid distribution -atplotlib (c:\\users\\evaro\\anaconda3\\lib\\site-packages)\n"
     ]
    }
   ],
   "source": [
    "pip install flake8 pycodestyle_magic"
   ]
  },
  {
   "cell_type": "code",
   "execution_count": 2,
   "id": "96707fdb",
   "metadata": {},
   "outputs": [],
   "source": [
    "%load_ext pycodestyle_magic"
   ]
  },
  {
   "cell_type": "code",
   "execution_count": 3,
   "id": "ee662fa9",
   "metadata": {},
   "outputs": [],
   "source": [
    "%flake8_on"
   ]
  },
  {
   "cell_type": "code",
   "execution_count": 114,
   "id": "1abe56d5",
   "metadata": {},
   "outputs": [],
   "source": [
    "import numpy as np\n",
    "import pandas as pd\n",
    "import matplotlib.pyplot as plt\n",
    "import seaborn as sns\n",
    "\n",
    "from sklearn.preprocessing import StandardScaler\n",
    "from sklearn.cluster import KMeans\n",
    "from sklearn.metrics import adjusted_rand_score\n",
    "\n",
    "import warnings\n",
    "warnings.filterwarnings(\"ignore\", category=UserWarning)"
   ]
  },
  {
   "cell_type": "markdown",
   "id": "ed7bf187",
   "metadata": {},
   "source": [
    "# Maintenance"
   ]
  },
  {
   "cell_type": "markdown",
   "id": "99d36aa0",
   "metadata": {},
   "source": [
    "Une fois notre modèle de segmentation choisi, nous allons étudier sa stabilité dans le temps. L'idée étant de savoir à quelle fréquence il serait nécessaire de mettre à jour notre segmentation afin de rester pertinente. \n",
    "\n",
    "Pour cela, nous allons calculer un **score ARI (Adjusted Rand Index)** mesurant la similarité entre deux jeux de données sur différentes périodes de temps et comparant les changements de clusters pour les clients. Ce score calculé est compris entre -1 et 1. Plus la valeur est proche de 1, plus la similarité est forte."
   ]
  },
  {
   "cell_type": "code",
   "execution_count": 88,
   "id": "2c445791",
   "metadata": {},
   "outputs": [],
   "source": [
    "# On récupère notre dernier dataframe de clients\n",
    "data = pd.read_csv('maintenance.csv', sep=';')\n",
    "df = pd.read_csv('data_clients.csv', sep=';', index_col=0)"
   ]
  },
  {
   "cell_type": "code",
   "execution_count": 89,
   "id": "2bf71552",
   "metadata": {},
   "outputs": [],
   "source": [
    "# On effectue un merge entre nos df afin d'avoir les dates d'achat\n",
    "\n",
    "data = data\n",
    "maint = pd.merge(data, df[['customer_unique_id', 'order_purchase_timestamp']],\n",
    "                 on='customer_unique_id', how='left')"
   ]
  },
  {
   "cell_type": "code",
   "execution_count": 90,
   "id": "516f506e",
   "metadata": {},
   "outputs": [],
   "source": [
    "# Suppression des valeurs manquantes\n",
    "\n",
    "maint = maint.dropna(subset='Distance')"
   ]
  },
  {
   "cell_type": "markdown",
   "id": "8a7c5a3b",
   "metadata": {},
   "source": [
    "On va maintenant évaluer la stabilité de notre modèle. \n",
    "\n",
    "On choisit une date T0 : 01-01-2017, et on regarde les dates situées avant celle-ci. "
   ]
  },
  {
   "cell_type": "code",
   "execution_count": 91,
   "id": "b98b360e",
   "metadata": {},
   "outputs": [
    {
     "data": {
      "text/plain": [
       "customer_unique_id                  object\n",
       "Récence                              int64\n",
       "Fréquence                            int64\n",
       "Montant                            float64\n",
       "Note_moyenne                       float64\n",
       "Nombre_articles                    float64\n",
       "payment_installments               float64\n",
       "Distance                           float64\n",
       "order_purchase_timestamp    datetime64[ns]\n",
       "dtype: object"
      ]
     },
     "execution_count": 91,
     "metadata": {},
     "output_type": "execute_result"
    }
   ],
   "source": [
    "# On convertit notre colonne en datetime\n",
    "maint['order_purchase_timestamp'] = pd.to_datetime(\n",
    "    maint['order_purchase_timestamp']\n",
    ")\n",
    "maint.dtypes"
   ]
  },
  {
   "cell_type": "code",
   "execution_count": 92,
   "id": "de9d905a",
   "metadata": {},
   "outputs": [],
   "source": [
    "from datetime import datetime, timedelta\n",
    "\n",
    "# On supprime les doublons\n",
    "maint = maint.drop_duplicates()\n",
    "\n",
    "# Sélection des données dont les dates sont situées avant la date\n",
    "# T0 (01-01-2017)\n",
    "T0 = datetime(2017, 1, 1)\n",
    "df0 = maint[maint['order_purchase_timestamp'] <= T0]"
   ]
  },
  {
   "cell_type": "code",
   "execution_count": 93,
   "id": "cdbd0396",
   "metadata": {},
   "outputs": [],
   "source": [
    "# Création d'une liste de dates\n",
    "\n",
    "dates = []\n",
    "\n",
    "start_date = pd.to_datetime('2017-01-01')\n",
    "end_date = start_date+timedelta(days=547)  # On prend sur 1 an et demi\n",
    "delta = timedelta(days=15)  # On sélectionne un pas de 15 jours\n",
    "\n",
    "while start_date < end_date:\n",
    "    dates.append(start_date)\n",
    "    start_date += delta"
   ]
  },
  {
   "cell_type": "code",
   "execution_count": 94,
   "id": "480d1f80",
   "metadata": {},
   "outputs": [
    {
     "data": {
      "text/plain": [
       "37"
      ]
     },
     "execution_count": 94,
     "metadata": {},
     "output_type": "execute_result"
    }
   ],
   "source": [
    "len(dates)"
   ]
  },
  {
   "cell_type": "code",
   "execution_count": 126,
   "id": "eb95ac83",
   "metadata": {},
   "outputs": [
    {
     "name": "stdout",
     "output_type": "stream",
     "text": [
      "Score ARI entre T0 et T0: 1.0\n",
      "Score ARI entre T0 et T1: 0.9377420789794408\n",
      "Score ARI entre T0 et T2: 0.8544999770835412\n",
      "Score ARI entre T0 et T3: 0.8812117193960878\n",
      "Score ARI entre T0 et T4: 0.8445331100320642\n",
      "Score ARI entre T0 et T5: 0.88951542908783\n",
      "Score ARI entre T0 et T6: 0.9013210041105522\n",
      "Score ARI entre T0 et T7: 0.9016659016532339\n",
      "Score ARI entre T0 et T8: 0.8973344602668015\n",
      "Score ARI entre T0 et T9: 0.8989548758904325\n",
      "Score ARI entre T0 et T10: 0.8952473072511605\n",
      "Score ARI entre T0 et T11: 0.8924850954329535\n",
      "Score ARI entre T0 et T12: 0.8859281020651197\n",
      "Score ARI entre T0 et T13: 0.8827133966523599\n",
      "Score ARI entre T0 et T14: 0.5724234846129237\n",
      "Score ARI entre T0 et T15: 0.5691925401645693\n",
      "Score ARI entre T0 et T16: 0.5630135379195375\n",
      "Score ARI entre T0 et T17: 0.5529408049128611\n",
      "Score ARI entre T0 et T18: 0.5429377781591886\n",
      "Score ARI entre T0 et T19: 0.5391282398698226\n",
      "Score ARI entre T0 et T20: 0.5334890752663665\n",
      "Score ARI entre T0 et T21: 0.5279046392055644\n",
      "Score ARI entre T0 et T22: 0.5060675221648517\n",
      "Score ARI entre T0 et T23: 0.4980425540005833\n",
      "Score ARI entre T0 et T24: 0.4993417180951775\n",
      "Score ARI entre T0 et T25: 0.49674920985520993\n",
      "Score ARI entre T0 et T26: 0.5006890936793499\n",
      "Score ARI entre T0 et T27: 0.49669677971356535\n",
      "Score ARI entre T0 et T28: 0.5152230624096684\n",
      "Score ARI entre T0 et T29: 0.49943969365423796\n",
      "Score ARI entre T0 et T30: 0.5004491272698033\n",
      "Score ARI entre T0 et T31: 0.5025675090180437\n",
      "Score ARI entre T0 et T32: 0.5070784790983551\n",
      "Score ARI entre T0 et T33: 0.5110997390112338\n",
      "Score ARI entre T0 et T34: 0.5152075821667109\n",
      "Score ARI entre T0 et T35: 0.5182503831795432\n",
      "Score ARI entre T0 et T36: 0.5198758226970169\n"
     ]
    }
   ],
   "source": [
    "# Initialisation variables\n",
    "\n",
    "T0 = dates[0]\n",
    "df0 = maint[maint['order_purchase_timestamp'] <= T0].set_index(\n",
    "    'customer_unique_id')\n",
    "scaler = StandardScaler()\n",
    "col = df0.drop('order_purchase_timestamp', axis=1).columns.tolist()\n",
    "df0_scaled = pd.DataFrame(scaler.fit_transform(df0[col]), columns=col)\n",
    "M0 = KMeans(n_init=10, n_clusters=8, random_state=42).fit(df0_scaled)\n",
    "predictions = []\n",
    "scores = []\n",
    "\n",
    "# Boucle\n",
    "for i in range(0, len(dates)):\n",
    "    Ti = dates[i]\n",
    "    dfi = maint[maint['order_purchase_timestamp'] <= Ti]\n",
    "    # Standardisation\n",
    "    dfi = dfi.set_index('customer_unique_id')\n",
    "    col = dfi.drop('order_purchase_timestamp', axis=1).columns.tolist()\n",
    "    scaler = StandardScaler()\n",
    "    dfi_scaled = pd.DataFrame(scaler.fit_transform(dfi[col]), columns=col)\n",
    "    # Entrainement du modèle sur Ti\n",
    "    Mi = KMeans(n_init=10, n_clusters=8, random_state=42).fit(dfi_scaled)\n",
    "    predictions.append(Mi.predict(dfi_scaled))\n",
    "    # Calcul score ARI\n",
    "    score = adjusted_rand_score(M0.predict(dfi_scaled), Mi.predict(dfi_scaled))\n",
    "    scores.append(score)\n",
    "    print(f\"Score ARI entre T0 et T{i}: {score}\")"
   ]
  },
  {
   "cell_type": "code",
   "execution_count": 127,
   "id": "b8989f5f",
   "metadata": {},
   "outputs": [
    {
     "data": {
      "image/png": "[encoded data removed]",
      "text/plain": [
       "<Figure size 576x360 with 1 Axes>"
      ]
     },
     "metadata": {
      "needs_background": "light"
     },
     "output_type": "display_data"
    }
   ],
   "source": [
    "# Tracer le graphique\n",
    "plt.figure(figsize=(8, 5))\n",
    "plt.plot(dates, scores)\n",
    "plt.axhline(y=0.8, color='red', linestyle='--')\n",
    "plt.title(\"Evolution du score ARI au fil du temps\")\n",
    "plt.xlabel(\"Date\")\n",
    "plt.ylabel(\"Score ARI\")\n",
    "plt.grid()\n",
    "plt.xticks(rotation=30)\n",
    "plt.show()"
   ]
  },
  {
   "cell_type": "markdown",
   "id": "12685c0b",
   "metadata": {},
   "source": [
    "Nous avons choisi de travailler sur une longue période de temps (1 an et demi) et d'observer l'évolution du Score ARI. Après calcul de ce score, on observe une certaine stabilisation (autour de 0.9) pendant environ 7 mois. Puis, une très forte chute est observée à partir du **mois d'août**. On passe à un score de 0.55 environ. Puis, au fil du temps, une stabilisation est observée aux alentours de 0.5. \n",
    "\n",
    "Cette observation permettent de stipuler qu'une **mise à jour tous les 7/8 mois** serait nécessaire afin de rester pertinente. "
   ]
  }
 ],
 "metadata": {
  "kernelspec": {
   "display_name": "Python 3 (ipykernel)",
   "language": "python",
   "name": "python3"
  },
  "language_info": {
   "codemirror_mode": {
    "name": "ipython",
    "version": 3
   },
   "file_extension": ".py",
   "mimetype": "text/x-python",
   "name": "python",
   "nbconvert_exporter": "python",
   "pygments_lexer": "ipython3",
   "version": "3.9.12"
  }
 },
 "nbformat": 4,
 "nbformat_minor": 5
}
